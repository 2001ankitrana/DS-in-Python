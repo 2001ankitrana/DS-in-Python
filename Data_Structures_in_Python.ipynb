{
  "nbformat": 4,
  "nbformat_minor": 0,
  "metadata": {
    "colab": {
      "provenance": []
    },
    "kernelspec": {
      "name": "python3",
      "display_name": "Python 3"
    },
    "language_info": {
      "name": "python"
    }
  },
  "cells": [
    {
      "cell_type": "markdown",
      "source": [
        "1/ Write a code to reverse a string."
      ],
      "metadata": {
        "id": "qpVPScAvr_UL"
      }
    },
    {
      "cell_type": "code",
      "execution_count": null,
      "metadata": {
        "colab": {
          "base_uri": "https://localhost:8080/"
        },
        "id": "n_bpszFpr1Bt",
        "outputId": "4e387171-28b2-4169-99d8-8423f7e8f357"
      },
      "outputs": [
        {
          "output_type": "stream",
          "name": "stdout",
          "text": [
            "!dlroW ,olleH\n"
          ]
        }
      ],
      "source": [
        "def reverse_string(s):\n",
        "  return s[::-1]\n",
        "\n",
        "s = \"Hello, World!\"\n",
        "reversed_s = reverse_string(s)\n",
        "print(reversed_s)"
      ]
    },
    {
      "cell_type": "markdown",
      "source": [
        "2/Write a code to count the number of vowels in a string."
      ],
      "metadata": {
        "id": "Lhrg-XOXsX6y"
      }
    },
    {
      "cell_type": "code",
      "source": [
        "def count_vowels(string):\n",
        "  vowels = \"aeiouAEIOU\"\n",
        "  vowel_count = 0\n",
        "  for char in string:\n",
        "    if char in vowels:\n",
        "      vowel_count += 1\n",
        "  return vowel_count\n",
        "\n",
        "# Example usage:\n",
        "string = \"Hello, World!\"\n",
        "num_vowels = count_vowels(string)\n",
        "print(num_vowels)  # Output: 3"
      ],
      "metadata": {
        "colab": {
          "base_uri": "https://localhost:8080/"
        },
        "id": "hu-yOyCpsVV0",
        "outputId": "276e691f-5297-47e7-9153-84d035316cac"
      },
      "execution_count": null,
      "outputs": [
        {
          "output_type": "stream",
          "name": "stdout",
          "text": [
            "3\n"
          ]
        }
      ]
    },
    {
      "cell_type": "markdown",
      "source": [
        "3/Write a code to check if a given string is a palindrome or not"
      ],
      "metadata": {
        "id": "j89LwqgPsqXA"
      }
    },
    {
      "cell_type": "code",
      "source": [
        "def is_palindrome(s):\n",
        "  s = s.lower()  # Convert to lowercase for case-insensitive comparison\n",
        "  return s == s[::-1]  # Compare the string with its reverse\n",
        "\n",
        "# Example usage:\n",
        "string1 = \"racecar\"\n",
        "string2 = \"hello\"\n",
        "\n",
        "print(f\"'{string1}' is a palindrome: {is_palindrome(string1)}\")  # Output: True\n",
        "print(f\"'{string2}' is a palindrome: {is_palindrome(string2)}\")  # Output: False"
      ],
      "metadata": {
        "colab": {
          "base_uri": "https://localhost:8080/"
        },
        "id": "t_OjCHnWsj0O",
        "outputId": "392f561c-167e-484b-841c-a733a19d03a2"
      },
      "execution_count": null,
      "outputs": [
        {
          "output_type": "stream",
          "name": "stdout",
          "text": [
            "'racecar' is a palindrome: True\n",
            "'hello' is a palindrome: False\n"
          ]
        }
      ]
    },
    {
      "cell_type": "markdown",
      "source": [
        "4/  Write a code to check if two given strings are anagrams of each other"
      ],
      "metadata": {
        "id": "woxZfrIMs3ol"
      }
    },
    {
      "cell_type": "code",
      "source": [
        "def is_anagram(str1, str2):\n",
        "    str1 = str1.lower()\n",
        "    str2 = str2.lower()\n",
        "    return sorted(str1) == sorted(str2)\n",
        "\n",
        "# Example usage:\n",
        "string1 = \"listen\"\n",
        "string2 = \"silent\"\n",
        "string3 = \"hello\"\n",
        "\n",
        "print(f\"'{string1}' and '{string2}' are anagrams: {is_anagram(string1, string2)}\")  # Output: True\n",
        "print(f\"'{string1}' and '{string3}' are anagrams: {is_anagram(string1, string3)}\")  # Output: False"
      ],
      "metadata": {
        "colab": {
          "base_uri": "https://localhost:8080/"
        },
        "id": "rd1x82IPs4ct",
        "outputId": "ac520235-cb58-4a6a-803a-a46ccce27f46"
      },
      "execution_count": null,
      "outputs": [
        {
          "output_type": "stream",
          "name": "stdout",
          "text": [
            "'listen' and 'silent' are anagrams: True\n",
            "'listen' and 'hello' are anagrams: False\n"
          ]
        }
      ]
    },
    {
      "cell_type": "markdown",
      "source": [
        "5/Write a code to find all occurrences of a given substring within another string."
      ],
      "metadata": {
        "id": "yGL1UfCTs4-l"
      }
    },
    {
      "cell_type": "code",
      "source": [
        "import re\n",
        "\n",
        "def find_all_occurrences(string, substring):\n",
        "  \"\"\"Finds all occurrences of a substring within a string.\n",
        "\n",
        "  Args:\n",
        "    string: The string to search within.\n",
        "    substring: The substring to search for.\n",
        "\n",
        "  Returns:\n",
        "    A list of the starting indices of all occurrences of the substring\n",
        "    within the string.\n",
        "  \"\"\"\n",
        "  return [m.start() for m in re.finditer(f'(?={substring})', string)]\n",
        "\n",
        "# Example usage\n",
        "string = \"This is a test string. Test again.\"\n",
        "substring = \"test\"\n",
        "occurrences = find_all_occurrences(string, substring)\n",
        "print(occurrences)  # Output: [10, 21]"
      ],
      "metadata": {
        "colab": {
          "base_uri": "https://localhost:8080/"
        },
        "id": "ydhLP3jPs5y2",
        "outputId": "c68e4bb6-c40e-4707-bd32-810deae56791"
      },
      "execution_count": null,
      "outputs": [
        {
          "output_type": "stream",
          "name": "stdout",
          "text": [
            "[10]\n"
          ]
        }
      ]
    },
    {
      "cell_type": "markdown",
      "source": [
        "6/Write a code to perform basic string compression using the counts of repeated characters"
      ],
      "metadata": {
        "id": "SKSpS27Hs6V0"
      }
    },
    {
      "cell_type": "code",
      "source": [
        "def compress_string(text):\n",
        "    if not text:\n",
        "        return \"\"\n",
        "\n",
        "    compressed = \"\"\n",
        "    count = 1\n",
        "    for i in range(len(text) - 1):\n",
        "        if text[i] == text[i + 1]:\n",
        "            count += 1\n",
        "        else:\n",
        "            compressed += text[i] + (str(count) if count > 1 else \"\")\n",
        "            count = 1\n",
        "\n",
        "    compressed += text[-1] + (str(count) if count > 1 else \"\")\n",
        "    return compressed\n",
        "\n",
        "\n",
        "# Example usage:\n",
        "string = \"aabcccccaaa\"\n",
        "compressed_string = compress_string(string)\n",
        "print(compressed_string)"
      ],
      "metadata": {
        "colab": {
          "base_uri": "https://localhost:8080/"
        },
        "id": "EJ6PZz1Zs662",
        "outputId": "e49ecb87-62ad-40f8-ef08-b00ca13a4c5f"
      },
      "execution_count": null,
      "outputs": [
        {
          "output_type": "stream",
          "name": "stdout",
          "text": [
            "a2bc5a3\n"
          ]
        }
      ]
    },
    {
      "cell_type": "markdown",
      "source": [
        "7/ Write a code to determine if a string has all unique characters"
      ],
      "metadata": {
        "id": "iQ0s-XUJt8ti"
      }
    },
    {
      "cell_type": "code",
      "source": [
        "def has_unique_chars(string):\n",
        "  \"\"\"Checks if a string has all unique characters.\n",
        "\n",
        "  Args:\n",
        "    string: The string to check.\n",
        "\n",
        "  Returns:\n",
        "    True if the string has all unique characters, False otherwise.\n",
        "  \"\"\"\n",
        "  return len(set(string)) == len(string)\n",
        "\n",
        "# Example usage:\n",
        "string1 = \"abcdefg\"\n",
        "string2 = \"abacdef\"\n",
        "\n",
        "print(f\"'{string1}' has all unique characters: {has_unique_chars(string1)}\")\n",
        "print(f\"'{string2}' has all unique characters: {has_unique_chars(string2)}\")"
      ],
      "metadata": {
        "colab": {
          "base_uri": "https://localhost:8080/"
        },
        "id": "MSuL1edNt9Hj",
        "outputId": "597f1f3c-2588-4284-9aeb-3f80ec8b0067"
      },
      "execution_count": null,
      "outputs": [
        {
          "output_type": "stream",
          "name": "stdout",
          "text": [
            "'abcdefg' has all unique characters: True\n",
            "'abacdef' has all unique characters: False\n"
          ]
        }
      ]
    },
    {
      "cell_type": "markdown",
      "source": [
        "8/ Write a code to convert a given string to uppercase or lowercase"
      ],
      "metadata": {
        "id": "IQjsrdS-t9jh"
      }
    },
    {
      "cell_type": "code",
      "source": [
        "def convert_case(string, to_uppercase=True):\n",
        "  \"\"\"Converts a string to uppercase or lowercase.\n",
        "\n",
        "  Args:\n",
        "    string: The string to convert.\n",
        "    to_uppercase: A boolean indicating whether to convert to uppercase (True)\n",
        "      or lowercase (False). Defaults to True.\n",
        "\n",
        "  Returns:\n",
        "    The converted string.\n",
        "  \"\"\"\n",
        "  if to_uppercase:\n",
        "    return string.upper()\n",
        "  else:\n",
        "    return string.lower()\n",
        "\n",
        "# Example usage\n",
        "string = \"Hello, World!\"\n",
        "\n",
        "uppercase_string = convert_case(string)\n",
        "print(uppercase_string)\n",
        "\n",
        "lowercase_string = convert_case(string, to_uppercase=False)\n",
        "print(lowercase_string)"
      ],
      "metadata": {
        "colab": {
          "base_uri": "https://localhost:8080/"
        },
        "id": "jaWPmiOTt-Ey",
        "outputId": "125e0977-98a4-4d20-f98c-002acfe21591"
      },
      "execution_count": null,
      "outputs": [
        {
          "output_type": "stream",
          "name": "stdout",
          "text": [
            "HELLO, WORLD!\n",
            "hello, world!\n"
          ]
        }
      ]
    },
    {
      "cell_type": "markdown",
      "source": [
        "9/Write a code to count the number of words in a string"
      ],
      "metadata": {
        "id": "59k-Iw3Et-jW"
      }
    },
    {
      "cell_type": "code",
      "source": [
        "import re\n",
        "\n",
        "def count_words(string):\n",
        "  \"\"\"Counts the number of words in a string.\n",
        "\n",
        "  Args:\n",
        "    string: The string to count words in.\n",
        "\n",
        "  Returns:\n",
        "    The number of words in the string.\n",
        "  \"\"\"\n",
        "  words = re.findall(r'\\b\\w+\\b', string)\n",
        "  return len(words)\n",
        "\n",
        "# Example usage\n",
        "string = \"This is a test string.\"\n",
        "word_count = count_words(string)\n",
        "print(word_count)\n"
      ],
      "metadata": {
        "colab": {
          "base_uri": "https://localhost:8080/"
        },
        "id": "jILFxHjpt_AR",
        "outputId": "7b24a563-54e9-4a72-f8a5-e4a24467853a"
      },
      "execution_count": null,
      "outputs": [
        {
          "output_type": "stream",
          "name": "stdout",
          "text": [
            "5\n"
          ]
        }
      ]
    },
    {
      "cell_type": "markdown",
      "source": [
        "10/ Write a code to concatenate two strings without using the + operator."
      ],
      "metadata": {
        "id": "8F8YrNl0vDSM"
      }
    },
    {
      "cell_type": "code",
      "source": [
        "def concatenate_strings(str1, str2):\n",
        "  \"\"\"Concatenates two strings without using the + operator.\n",
        "\n",
        "  Args:\n",
        "    str1: The first string.\n",
        "    str2: The second string.\n",
        "\n",
        "  Returns:\n",
        "    The concatenated string.\n",
        "  \"\"\"\n",
        "  return f\"{str1}{str2}\"\n",
        "\n",
        "# Example usage\n",
        "string1 = \"Hello\"\n",
        "string2 = \"World\"\n",
        "concatenated_string = concatenate_strings(string1, string2)\n",
        "print(concatenated_string)"
      ],
      "metadata": {
        "colab": {
          "base_uri": "https://localhost:8080/"
        },
        "id": "gOQmEDpZvDyg",
        "outputId": "3f8a7727-76ea-4534-bd7c-72c6dd62dc35"
      },
      "execution_count": null,
      "outputs": [
        {
          "output_type": "stream",
          "name": "stdout",
          "text": [
            "HelloWorld\n"
          ]
        }
      ]
    },
    {
      "cell_type": "markdown",
      "source": [
        "11/Write a code to remove all occurrences of a specific element from a list."
      ],
      "metadata": {
        "id": "mZDZHFrrvEP9"
      }
    },
    {
      "cell_type": "code",
      "source": [
        "def remove_all_occurrences(lst, element):\n",
        "  \"\"\"Removes all occurrences of a specific element from a list.\n",
        "\n",
        "  Args:\n",
        "    lst: The list to remove elements from.\n",
        "    element: The element to remove.\n",
        "\n",
        "  Returns:\n",
        "    A new list with all occurrences of the element removed.\n",
        "  \"\"\"\n",
        "  return [x for x in lst if x != element]\n",
        "\n",
        "# Example usage:\n",
        "my_list = [1, 2, 3, 2, 4, 2, 5]\n",
        "element_to_remove = 2\n",
        "new_list = remove_all_occurrences(my_list, element_to_remove)\n",
        "print(new_list)"
      ],
      "metadata": {
        "id": "0MMoivhFvEpO",
        "colab": {
          "base_uri": "https://localhost:8080/"
        },
        "outputId": "f16e100e-0178-4d99-b257-49c39e4dbb54"
      },
      "execution_count": null,
      "outputs": [
        {
          "output_type": "stream",
          "name": "stdout",
          "text": [
            "[1, 3, 4, 5]\n"
          ]
        }
      ]
    },
    {
      "cell_type": "markdown",
      "source": [
        "12/Implement a code to find the second largest number in a given list of integers."
      ],
      "metadata": {
        "id": "uIVciRQvvFF3"
      }
    },
    {
      "cell_type": "code",
      "source": [
        "def find_second_largest(numbers):\n",
        "  \"\"\"Finds the second largest number in a list of integers.\n",
        "\n",
        "  Args:\n",
        "    numbers: A list of integers.\n",
        "\n",
        "  Returns:\n",
        "    The second largest number in the list, or None if the list has fewer than 2 elements.\n",
        "  \"\"\"\n",
        "  if len(numbers) < 2:\n",
        "    return None\n",
        "\n",
        "\n",
        "  unique_numbers = sorted(list(set(numbers)), reverse=True)\n",
        "\n",
        "  if len(unique_numbers) >= 2:\n",
        "    return unique_numbers[1]\n",
        "  else:\n",
        "    return None\n",
        "\n",
        "# Example usage\n",
        "numbers = [1, 5, 2, 5, 3, 4]\n",
        "second_largest = find_second_largest(numbers)\n",
        "print(second_largest)"
      ],
      "metadata": {
        "id": "q9LMxAKDvFhf",
        "colab": {
          "base_uri": "https://localhost:8080/"
        },
        "outputId": "971500c7-3599-434d-eea4-ed483a9ccdd3"
      },
      "execution_count": null,
      "outputs": [
        {
          "output_type": "stream",
          "name": "stdout",
          "text": [
            "4\n"
          ]
        }
      ]
    },
    {
      "cell_type": "markdown",
      "source": [
        "13/Create a code to count the occurrences of each element in a list and return a dictionary with elements as keys and their counts as values"
      ],
      "metadata": {
        "id": "JrdT7SJzvF9j"
      }
    },
    {
      "cell_type": "code",
      "source": [
        "def count_occurrences(lst):\n",
        "  \"\"\"Counts the occurrences of each element in a list.\n",
        "\n",
        "  Args:\n",
        "    lst: The list to count elements in.\n",
        "\n",
        "  Returns:\n",
        "    A dictionary with elements as keys and their counts as values.\n",
        "  \"\"\"\n",
        "  occurrences = {}\n",
        "  for element in lst:\n",
        "    occurrences[element] = occurrences.get(element, 0) + 1\n",
        "  return occurrences\n",
        "\n",
        "# Example usage:\n",
        "my_list = [1, 2, 2, 3, 3, 3, 4, 4, 4, 4]\n",
        "element_counts = count_occurrences(my_list)\n",
        "print(element_counts)"
      ],
      "metadata": {
        "id": "3aMM-l2mvGZr",
        "colab": {
          "base_uri": "https://localhost:8080/"
        },
        "outputId": "85394a08-3348-4903-b1dd-f43f7596b305"
      },
      "execution_count": null,
      "outputs": [
        {
          "output_type": "stream",
          "name": "stdout",
          "text": [
            "{1: 1, 2: 2, 3: 3, 4: 4}\n"
          ]
        }
      ]
    },
    {
      "cell_type": "markdown",
      "source": [
        "14/Write a code to reverse a list in-place without using any built-in reverse functions"
      ],
      "metadata": {
        "id": "BwZoksmolTCf"
      }
    },
    {
      "cell_type": "code",
      "source": [
        "def reverse_list_in_place(lst):\n",
        "  \"\"\"Reverses a list in-place without using built-in reverse functions.\n",
        "\n",
        "  Args:\n",
        "    lst: The list to reverse.\n",
        "  \"\"\"\n",
        "  start = 0\n",
        "  end = len(lst) - 1\n",
        "  while start < end:\n",
        "    lst[start], lst[end] = lst[end], lst[start]  # Swap elements\n",
        "    start += 1\n",
        "    end -= 1\n",
        "\n",
        "# Example usage:\n",
        "my_list = [1, 2, 3, 4, 5]\n",
        "reverse_list_in_place(my_list)\n",
        "print(my_list)"
      ],
      "metadata": {
        "colab": {
          "base_uri": "https://localhost:8080/"
        },
        "id": "mteLdoXSlToR",
        "outputId": "b9dff33d-291d-46d3-9d6e-f929b26169d7"
      },
      "execution_count": null,
      "outputs": [
        {
          "output_type": "stream",
          "name": "stdout",
          "text": [
            "[5, 4, 3, 2, 1]\n"
          ]
        }
      ]
    },
    {
      "cell_type": "markdown",
      "source": [
        "15/  Implement a code to find and remove duplicates from a list while preserving the original order of elements"
      ],
      "metadata": {
        "id": "Czle1KMalUHy"
      }
    },
    {
      "cell_type": "code",
      "source": [
        "def remove_duplicates_preserve_order(lst):\n",
        "  \"\"\"Removes duplicates from a list while preserving the original order.\n",
        "\n",
        "  Args:\n",
        "    lst: The list to remove duplicates from.\n",
        "\n",
        "  Returns:\n",
        "    A new list with duplicates removed, preserving the original order.\n",
        "  \"\"\"\n",
        "  seen = set()\n",
        "  return [x for x in lst if not (x in seen or seen.add(x))]\n",
        "\n",
        "# Example usage:\n",
        "my_list = [1, 2, 2, 3, 4, 4, 5]\n",
        "new_list = remove_duplicates_preserve_order(my_list)\n",
        "print(new_list)"
      ],
      "metadata": {
        "colab": {
          "base_uri": "https://localhost:8080/"
        },
        "id": "ls7m1M8glUhl",
        "outputId": "dd7469f4-1d21-4f95-a7a8-4d11b63ed12d"
      },
      "execution_count": null,
      "outputs": [
        {
          "output_type": "stream",
          "name": "stdout",
          "text": [
            "[1, 2, 3, 4, 5]\n"
          ]
        }
      ]
    },
    {
      "cell_type": "markdown",
      "source": [
        "16/ Create a code to check if a given list is sorted (either in ascending or descending order) or not"
      ],
      "metadata": {
        "id": "ntroQcnzlU73"
      }
    },
    {
      "cell_type": "code",
      "source": [
        "def is_sorted(lst):\n",
        "  \"\"\"Checks if a list is sorted (either ascending or descending).\n",
        "\n",
        "  Args:\n",
        "    lst: The list to check.\n",
        "\n",
        "  Returns:\n",
        "    True if the list is sorted, False otherwise.\n",
        "  \"\"\"\n",
        "  is_ascending = all(lst[i] <= lst[i + 1] for i in range(len(lst) - 1))\n",
        "  is_descending = all(lst[i] >= lst[i + 1] for i in range(len(lst) - 1))\n",
        "  return is_ascending or is_descending\n",
        "\n",
        "# Example usage:\n",
        "list1 = [1, 2, 3, 4, 5]\n",
        "list2 = [5, 4, 3, 2, 1]\n",
        "list3 = [1, 3, 2, 4, 5]\n",
        "\n",
        "print(f\"list1 is sorted: {is_sorted(list1)}\")\n",
        "print(f\"list2 is sorted: {is_sorted(list2)}\")\n",
        "print(f\"list3 is sorted: {is_sorted(list3)}\")"
      ],
      "metadata": {
        "colab": {
          "base_uri": "https://localhost:8080/"
        },
        "id": "mPaAmyXrlV8g",
        "outputId": "ba701091-f7eb-4991-f99c-8229bbe7f94c"
      },
      "execution_count": null,
      "outputs": [
        {
          "output_type": "stream",
          "name": "stdout",
          "text": [
            "list1 is sorted: True\n",
            "list2 is sorted: True\n",
            "list3 is sorted: False\n"
          ]
        }
      ]
    },
    {
      "cell_type": "markdown",
      "source": [
        "17/ Write a code to merge two sorted lists into a single sorted list."
      ],
      "metadata": {
        "id": "LLq7EdMimMXL"
      }
    },
    {
      "cell_type": "code",
      "source": [
        "def merge_sorted_lists(list1, list2):\n",
        "  merged_list = []\n",
        "  i = j = 0\n",
        "\n",
        "  while i < len(list1) and j < len(list2):\n",
        "    if list1[i] <= list2[j]:\n",
        "      merged_list.append(list1[i])\n",
        "      i += 1\n",
        "    else:\n",
        "      merged_list.append(list2[j])\n",
        "      j += 1\n",
        "\n",
        "  # Add any remaining elements from list1 or list2\n",
        "  merged_list.extend(list1[i:])\n",
        "  merged_list.extend(list2[j:])\n",
        "\n",
        "  return merged_list\n",
        "\n",
        "# Example usage:\n",
        "list1 = [1, 3, 5, 7]\n",
        "list2 = [2, 4, 6, 8]\n",
        "merged_list = merge_sorted_lists(list1, list2)\n",
        "print(merged_list)"
      ],
      "metadata": {
        "colab": {
          "base_uri": "https://localhost:8080/"
        },
        "id": "Jam3BKiZmMyv",
        "outputId": "104c01f5-b549-48a7-c257-9aaa1a615aa5"
      },
      "execution_count": null,
      "outputs": [
        {
          "output_type": "stream",
          "name": "stdout",
          "text": [
            "[1, 2, 3, 4, 5, 6, 7, 8]\n"
          ]
        }
      ]
    },
    {
      "cell_type": "markdown",
      "source": [
        "18/ Implement a code to find the intersection of two given lists."
      ],
      "metadata": {
        "id": "M77bTfhGmNOA"
      }
    },
    {
      "cell_type": "code",
      "source": [
        "def find_intersection(list1, list2):\n",
        "  set1 = set(list1)\n",
        "  set2 = set(list2)\n",
        "\n",
        "  # Find the intersection using the & operator\n",
        "  intersection_set = set1 & set2\n",
        "\n",
        "  # Convert the intersection set back to a list\n",
        "  intersection_list = list(intersection_set)\n",
        "\n",
        "  return intersection_list\n",
        "\n",
        "# Example usage:\n",
        "list1 = [1, 2, 3, 4, 5]\n",
        "list2 = [3, 5, 6, 7, 8]\n",
        "intersection = find_intersection(list1, list2)\n",
        "print(intersection)\n"
      ],
      "metadata": {
        "colab": {
          "base_uri": "https://localhost:8080/"
        },
        "id": "tWRdMTwzmNrN",
        "outputId": "6c648574-8d41-4cf5-f48c-52317e17ca88"
      },
      "execution_count": null,
      "outputs": [
        {
          "output_type": "stream",
          "name": "stdout",
          "text": [
            "[3, 5]\n"
          ]
        }
      ]
    },
    {
      "cell_type": "markdown",
      "source": [
        "19/ Create a code to find the union of two lists without duplicates."
      ],
      "metadata": {
        "id": "B_h3AzyRmOEV"
      }
    },
    {
      "cell_type": "code",
      "source": [
        "def find_union(list1, list2):\n",
        "  \"\"\"Finds the union of two lists without duplicates.\n",
        "\n",
        "  Args:\n",
        "    list1: The first list.\n",
        "    list2: The second list.\n",
        "\n",
        "  Returns:\n",
        "    A new list containing all unique elements from both input lists.\n",
        "  \"\"\"\n",
        "  # Combine both lists and convert to a set to remove duplicates\n",
        "  union_set = set(list1 + list2)\n",
        "\n",
        "  # Convert the set back to a list\n",
        "  union_list = list(union_set)\n",
        "\n",
        "  return union_list\n",
        "\n",
        "# Example usage:\n",
        "list1 = [1, 2, 3, 4, 5]\n",
        "list2 = [3, 5, 6, 7, 8]\n",
        "union = find_union(list1, list2)\n",
        "print(union)"
      ],
      "metadata": {
        "colab": {
          "base_uri": "https://localhost:8080/"
        },
        "id": "ZYVHAb-omOej",
        "outputId": "76c51e11-97b0-4091-c442-e4587b3fce6c"
      },
      "execution_count": null,
      "outputs": [
        {
          "output_type": "stream",
          "name": "stdout",
          "text": [
            "[1, 2, 3, 4, 5, 6, 7, 8]\n"
          ]
        }
      ]
    },
    {
      "cell_type": "markdown",
      "source": [
        "20/ Write a code that takes two tuples as input and returns a new tuple containing elements that are\n",
        "common to both input tuples"
      ],
      "metadata": {
        "id": "lPJPHoH3mO2D"
      }
    },
    {
      "cell_type": "code",
      "source": [
        "def find_common_elements(tuple1, tuple2):\n",
        "  set1 = set(tuple1)\n",
        "  set2 = set(tuple2)\n",
        "\n",
        "  # Find the intersection using the & operator\n",
        "  common_elements_set = set1 & set2\n",
        "\n",
        "  # Convert the set back to a tuple\n",
        "  common_elements_tuple = tuple(common_elements_set)\n",
        "\n",
        "  return common_elements_tuple\n",
        "\n",
        "# Example usage\n",
        "tuple1 = (1, 2, 3, 4, 5)\n",
        "tuple2 = (3, 5, 6, 7, 8)\n",
        "common_elements = find_common_elements(tuple1, tuple2)\n",
        "print(common_elements)\n"
      ],
      "metadata": {
        "colab": {
          "base_uri": "https://localhost:8080/"
        },
        "id": "5DVjXALBmPRa",
        "outputId": "839b1a86-20d2-4ed0-a7b1-e5f830bdee98"
      },
      "execution_count": null,
      "outputs": [
        {
          "output_type": "stream",
          "name": "stdout",
          "text": [
            "(3, 5)\n"
          ]
        }
      ]
    },
    {
      "cell_type": "markdown",
      "source": [
        "21/Create a code that prompts the user to enter two sets of integers separated by commas. Then, print the\n",
        "intersection of these two sets"
      ],
      "metadata": {
        "id": "75uMwZECqeEz"
      }
    },
    {
      "cell_type": "code",
      "source": [
        "def find_intersection_from_input():\n",
        "  \"\"\"Prompts the user for two sets of integers and prints their intersection.\"\"\"\n",
        "  try:\n",
        "    # Get input from the user for the first set\n",
        "    set1_str = input(\"Enter the first set of integers separated by commas: \")\n",
        "    set1 = set(map(int, set1_str.split(',')))\n",
        "\n",
        "    # Get input from the user for the second set\n",
        "    set2_str = input(\"Enter the second set of integers separated by commas: \")\n",
        "    set2 = set(map(int, set2_str.split(',')))\n",
        "\n",
        "    # Find the intersection\n",
        "    intersection = set1 & set2\n",
        "\n",
        "    # Print the intersection\n",
        "    print(\"Intersection:\", intersection)\n",
        "\n",
        "  except ValueError:\n",
        "    print(\"Invalid input. Please enter integers separated by commas.\")\n",
        "\n",
        "\n",
        "find_intersection_from_input()"
      ],
      "metadata": {
        "colab": {
          "base_uri": "https://localhost:8080/"
        },
        "id": "lrudZmHRqeo9",
        "outputId": "ea7c9b34-168f-4c40-f5b3-ab14b7f20529"
      },
      "execution_count": null,
      "outputs": [
        {
          "output_type": "stream",
          "name": "stdout",
          "text": [
            "Enter the first set of integers separated by commas: 2,2,4,-6,-5\n",
            "Enter the second set of integers separated by commas: 3,-5,-9,5,9,2,-4\n",
            "Intersection: {2, -5}\n"
          ]
        }
      ]
    },
    {
      "cell_type": "markdown",
      "source": [
        "22/ Write a code to concatenate two tuples. The function should take two tuples as input and return a new\n",
        "tuple containing elements from both input tuples"
      ],
      "metadata": {
        "id": "XKBbOVRCqfGd"
      }
    },
    {
      "cell_type": "code",
      "source": [
        "def concatenate_tuples(tuple1, tuple2):\n",
        "  return tuple1 + tuple2\n",
        "\n",
        "# Example usage\n",
        "tuple1 = (1, 2, 3)\n",
        "tuple2 = (4, 5, 6)\n",
        "concatenated_tuple = concatenate_tuples(tuple1, tuple2)\n",
        "print(concatenated_tuple)\n"
      ],
      "metadata": {
        "colab": {
          "base_uri": "https://localhost:8080/"
        },
        "id": "_9TIStFXqgAx",
        "outputId": "b3c37c30-638a-4698-f478-6a11207e7e6a"
      },
      "execution_count": null,
      "outputs": [
        {
          "output_type": "stream",
          "name": "stdout",
          "text": [
            "(1, 2, 3, 4, 5, 6)\n"
          ]
        }
      ]
    },
    {
      "cell_type": "markdown",
      "source": [
        "23/ Develop a code that prompts the user to input two sets of strings. Then, print the elements that are\n",
        "present in the first set but not in the second set"
      ],
      "metadata": {
        "id": "bbn0TN-Rraqy"
      }
    },
    {
      "cell_type": "code",
      "source": [
        "def find_difference_from_input():\n",
        "  \"\"\"Prompts the user for two sets of strings and prints the difference.\"\"\"\n",
        "  try:\n",
        "    # Get input for the first set of strings\n",
        "    set1_str = input(\"Enter the first set of strings separated by commas: \")\n",
        "    set1 = set(set1_str.split(','))\n",
        "\n",
        "    # Get input for the second set of strings\n",
        "    set2_str = input(\"Enter the second set of strings separated by commas: \")\n",
        "    set2 = set(set2_str.split(','))\n",
        "\n",
        "    # Find the difference (elements in set1 but not in set2)\n",
        "    difference = set1 - set2  # or difference = set1.difference(set2)\n",
        "\n",
        "    # Print the difference\n",
        "    print(\"Elements in the first set but not in the second set:\", difference)\n",
        "\n",
        "  except ValueError:\n",
        "    print(\"Invalid input. Please enter strings separated by commas.\")\n",
        "\n",
        "\n",
        "find_difference_from_input()"
      ],
      "metadata": {
        "colab": {
          "base_uri": "https://localhost:8080/"
        },
        "id": "xZBGUFR2rbFF",
        "outputId": "0505f417-48c7-4365-86cd-8beaca2a9b7f"
      },
      "execution_count": null,
      "outputs": [
        {
          "output_type": "stream",
          "name": "stdout",
          "text": [
            "Enter the first set of strings separated by commas: Ankit,Jubin,Vikas\n",
            "Enter the second set of strings separated by commas: Monty,Raghav,Mohit\n",
            "Elements in the first set but not in the second set: {'Vikas', 'Ankit', 'Jubin'}\n"
          ]
        }
      ]
    },
    {
      "cell_type": "markdown",
      "source": [
        "24/ Create a code that takes a tuple and two integers as input. The function should return a new tuple\n",
        "containing elements from the original tuple within the specified range of indices"
      ],
      "metadata": {
        "id": "4Bz9BEV3rbeo"
      }
    },
    {
      "cell_type": "code",
      "source": [
        "def slice_tuple(original_tuple, start_index, end_index):\n",
        "  return original_tuple[start_index:end_index]\n",
        "my_tuple = (1, 2, 3, 4, 5, 6, 7, 8, 9, 10)\n",
        "start_index = 2\n",
        "end_index = 7\n",
        "sliced_tuple = slice_tuple(my_tuple, start_index, end_index)\n",
        "print(sliced_tuple)\n"
      ],
      "metadata": {
        "colab": {
          "base_uri": "https://localhost:8080/"
        },
        "id": "38AKdsbCrcNO",
        "outputId": "be9d0a11-4dc1-48df-f34c-c193775a27cc"
      },
      "execution_count": null,
      "outputs": [
        {
          "output_type": "stream",
          "name": "stdout",
          "text": [
            "(3, 4, 5, 6, 7)\n"
          ]
        }
      ]
    },
    {
      "cell_type": "markdown",
      "source": [
        "25/ Write a code that prompts the user to input two sets of characters. Then, print the union of these two sets."
      ],
      "metadata": {
        "id": "NoZ2wM9tsbnm"
      }
    },
    {
      "cell_type": "code",
      "source": [
        "def find_union_of_characters():\n",
        "  \"\"\"Prompts the user for two sets of characters and prints their union.\"\"\"\n",
        "  try:\n",
        "    # Get input for the first set of characters\n",
        "    set1_str = input(\"Enter the first set of characters separated by commas: \")\n",
        "    set1 = set(set1_str.replace(\" \", \"\").split(','))  # Remove spaces and split\n",
        "\n",
        "    # Get input for the second set of characters\n",
        "    set2_str = input(\"Enter the second set of characters separated by commas: \")\n",
        "    set2 = set(set2_str.replace(\" \", \"\").split(','))  # Remove spaces and split\n",
        "\n",
        "    # Calculate the union\n",
        "    union_set = set1 | set2  # or union_set = set1.union(set2)\n",
        "\n",
        "    # Print the union\n",
        "    print(\"Union of the two sets:\", union_set)\n",
        "\n",
        "  except ValueError:\n",
        "    print(\"Invalid input. Please enter characters separated by commas.\")\n",
        "\n",
        "# Call the function to execute\n",
        "find_union_of_characters()"
      ],
      "metadata": {
        "colab": {
          "base_uri": "https://localhost:8080/"
        },
        "id": "WSrqisR-scHo",
        "outputId": "59cf2cf7-949e-48bd-aa5f-f118e30e9edd"
      },
      "execution_count": null,
      "outputs": [
        {
          "output_type": "stream",
          "name": "stdout",
          "text": [
            "Enter the first set of characters separated by commas: a,s,d,f,g,h,j,k,l\n",
            "Enter the second set of characters separated by commas: a,d,g,j,x,v,n\n",
            "Union of the two sets: {'f', 'n', 'd', 'h', 's', 'l', 'j', 'x', 'a', 'g', 'v', 'k'}\n"
          ]
        }
      ]
    },
    {
      "cell_type": "markdown",
      "source": [
        "26/ Develop a code that takes a tuple of integers as input. The function should return the maximum and\n",
        "minimum values from the tuple using tuple unpacking"
      ],
      "metadata": {
        "id": "irA220PAsckh"
      }
    },
    {
      "cell_type": "code",
      "source": [
        "def find_min_max(numbers):\n",
        "  \"\"\"Finds the minimum and maximum values in a tuple of integers.\n",
        "\n",
        "  Args:\n",
        "    numbers: A tuple of integers.\n",
        "\n",
        "  Returns:\n",
        "    A tuple containing the minimum and maximum values.\n",
        "  \"\"\"\n",
        "  # Use tuple unpacking with * operator and min/max functions\n",
        "  minimum, maximum = min(numbers), max(numbers)\n",
        "\n",
        "  return minimum, maximum\n",
        "\n",
        "# Example usage:\n",
        "my_tuple = (3, 1, 4, 1, 5, 9, 2, 6)\n",
        "min_value, max_value = find_min_max(my_tuple)\n",
        "print(\"Minimum:\", min_value)\n",
        "print(\"Maximum:\", max_value)"
      ],
      "metadata": {
        "colab": {
          "base_uri": "https://localhost:8080/"
        },
        "id": "Hszp90YBsdB5",
        "outputId": "41c8e7ab-d2b8-44e1-8e74-885e21ca6aac"
      },
      "execution_count": null,
      "outputs": [
        {
          "output_type": "stream",
          "name": "stdout",
          "text": [
            "Minimum: 1\n",
            "Maximum: 9\n"
          ]
        }
      ]
    },
    {
      "cell_type": "markdown",
      "source": [
        "27/ Create a code that defines two sets of integers. Then, print the union, intersection, and difference of these\n",
        "two sets"
      ],
      "metadata": {
        "id": "0BiDfiA2sdc1"
      }
    },
    {
      "cell_type": "code",
      "source": [
        "# Define the two sets of integers\n",
        "set1 = {1, 2, 3, 4, 5}\n",
        "set2 = {3, 5, 6, 7, 8}\n",
        "\n",
        "# Calculate the union\n",
        "union_set = set1 | set2  # or set1.union(set2)\n",
        "\n",
        "# Calculate the intersection\n",
        "intersection_set = set1 & set2  # or set1.intersection(set2)\n",
        "\n",
        "# Calculate the difference (set1 - set2)\n",
        "difference_set = set1 - set2  # or set1.difference(set2)\n",
        "\n",
        "# Print the results\n",
        "print(\"Union:\", union_set)\n",
        "print(\"Intersection:\", intersection_set)\n",
        "print(\"Difference (set1 - set2):\", difference_set)"
      ],
      "metadata": {
        "id": "nEE4CTyIs0IO",
        "colab": {
          "base_uri": "https://localhost:8080/"
        },
        "outputId": "a79c6430-f444-46c5-c17d-121670d361a0"
      },
      "execution_count": null,
      "outputs": [
        {
          "output_type": "stream",
          "name": "stdout",
          "text": [
            "Union: {1, 2, 3, 4, 5, 6, 7, 8}\n",
            "Intersection: {3, 5}\n",
            "Difference (set1 - set2): {1, 2, 4}\n"
          ]
        }
      ]
    },
    {
      "cell_type": "markdown",
      "source": [
        "28/ Write a code that takes a tuple and an element as input. The function should return the count of\n",
        "occurrences of the given element in the tuple"
      ],
      "metadata": {
        "id": "TBcixe_EuBNo"
      }
    },
    {
      "cell_type": "code",
      "source": [
        "def count_occurrences_in_tuple(my_tuple, element):\n",
        "  \"\"\"Counts the occurrences of an element in a tuple.\n",
        "\n",
        "  Args:\n",
        "    my_tuple: The tuple to search in.\n",
        "    element: The element to count occurrences of.\n",
        "\n",
        "  Returns:\n",
        "    The number of times the element appears in the tuple.\n",
        "  \"\"\"\n",
        "  return my_tuple.count(element)\n",
        "\n",
        "# Example usage:\n",
        "my_tuple = (1, 2, 3, 2, 4, 2, 5)\n",
        "element_to_count = 2\n",
        "occurrences = count_occurrences_in_tuple(my_tuple, element_to_count)\n",
        "print(f\"The element {element_to_count} appears {occurrences} times in the tuple.\")\n"
      ],
      "metadata": {
        "colab": {
          "base_uri": "https://localhost:8080/"
        },
        "id": "iqDYXorZuB2E",
        "outputId": "e241afc5-d807-4364-c043-5cc5f0d82548"
      },
      "execution_count": null,
      "outputs": [
        {
          "output_type": "stream",
          "name": "stdout",
          "text": [
            "The element 2 appears 3 times in the tuple.\n"
          ]
        }
      ]
    },
    {
      "cell_type": "markdown",
      "source": [
        "29/ Develop a code that prompts the user to input two sets of strings. Then, print the symmetric difference of\n",
        "these two sets."
      ],
      "metadata": {
        "id": "_owSM0iIuCaU"
      }
    },
    {
      "cell_type": "code",
      "source": [
        "def find_symmetric_difference_from_input():\n",
        "  \"\"\"Prompts the user for two sets of strings and prints their symmetric difference.\"\"\"\n",
        "  try:\n",
        "    # Get input for the first set of strings\n",
        "    set1_str = input(\"Enter the first set of strings separated by commas: \")\n",
        "    set1 = set(set1_str.split(','))\n",
        "\n",
        "    # Get input for the second set of strings\n",
        "    set2_str = input(\"Enter the second set of strings separated by commas: \")\n",
        "    set2 = set(set2_str.split(','))\n",
        "\n",
        "    # Calculate the symmetric difference\n",
        "    symmetric_difference = set1 ^ set2  # or symmetric_difference = set1.symmetric_difference(set2)\n",
        "\n",
        "    # Print the symmetric difference\n",
        "    print(\"Symmetric difference of the two sets:\", symmetric_difference)\n",
        "\n",
        "  except ValueError:\n",
        "    print(\"Invalid input. Please enter strings separated by commas.\")\n",
        "\n",
        "# Call the function to execute\n",
        "find_symmetric_difference_from_input()"
      ],
      "metadata": {
        "colab": {
          "base_uri": "https://localhost:8080/"
        },
        "id": "WsZp6tw2u7SE",
        "outputId": "79e4563f-96b8-43bb-a266-8951855e0fa3"
      },
      "execution_count": null,
      "outputs": [
        {
          "output_type": "stream",
          "name": "stdout",
          "text": [
            "Enter the first set of strings separated by commas: apple,orange,mango,kiwi\n",
            "Enter the second set of strings separated by commas: kiwi,grapes,apple\n",
            "Symmetric difference of the two sets: {'grapes', 'mango', 'orange'}\n"
          ]
        }
      ]
    },
    {
      "cell_type": "markdown",
      "source": [
        "30/ Write a code to access a value in a nested dictionary. The function should take the dictionary and a list of\n",
        "keys as input, and return the corresponding value. If any of the keys do not exist in the dictionary, the\n",
        "function should return None"
      ],
      "metadata": {
        "id": "vUKENChNu8lV"
      }
    },
    {
      "cell_type": "code",
      "source": [
        "def get_nested_value(data, keys):\n",
        "  \"\"\"Accesses a value in a nested dictionary using a list of keys.\n",
        "\n",
        "  Args:\n",
        "    data: The nested dictionary.\n",
        "    keys: A list of keys to access the value.\n",
        "\n",
        "  Returns:\n",
        "    The corresponding value if all keys exist, otherwise None.\n",
        "  \"\"\"\n",
        "  current_level = data\n",
        "  for key in keys:\n",
        "    if isinstance(current_level, dict) and key in current_level:\n",
        "      current_level = current_level[key]\n",
        "    else:\n",
        "      return None\n",
        "  return current_level\n",
        "\n",
        "# Example usage\n",
        "data = {'a': {'b': {'c': 10}}}\n",
        "keys = ['a', 'b', 'c']\n",
        "value = get_nested_value(data, keys)\n",
        "print(value)\n",
        "\n",
        "keys = ['a', 'b', 'd']\n",
        "value = get_nested_value(data, keys)\n",
        "print(value)"
      ],
      "metadata": {
        "colab": {
          "base_uri": "https://localhost:8080/"
        },
        "id": "Y7j6-cZWuC62",
        "outputId": "f24960d4-fc5c-44ee-da5b-01674be69360"
      },
      "execution_count": null,
      "outputs": [
        {
          "output_type": "stream",
          "name": "stdout",
          "text": [
            "10\n",
            "None\n"
          ]
        }
      ]
    },
    {
      "cell_type": "markdown",
      "source": [
        "31/  Write a code that takes a dictionary as input and returns a sorted version of it based on the values. You\n",
        "can choose whether to sort in ascending or descending order"
      ],
      "metadata": {
        "id": "4wCwnkhJvdUU"
      }
    },
    {
      "cell_type": "code",
      "source": [
        "def sort_dictionary_by_values(dictionary, reverse=False):\n",
        "  \"\"\"Sorts a dictionary by its values.\n",
        "\n",
        "  Args:\n",
        "    dictionary: The dictionary to sort.\n",
        "    reverse: If True, sorts in descending order; otherwise, sorts in ascending order (default).\n",
        "\n",
        "  Returns:\n",
        "    A new dictionary sorted by values.\n",
        "  \"\"\"\n",
        "  sorted_items = sorted(dictionary.items(), key=lambda item: item[1], reverse=reverse)\n",
        "  sorted_dictionary = dict(sorted_items)\n",
        "  return sorted_dictionary\n",
        "\n",
        "# Example usage:\n",
        "my_dictionary = {'apple': 3, 'banana': 1, 'orange': 2}\n",
        "\n",
        "# Sort in ascending order (default)\n",
        "sorted_dictionary_asc = sort_dictionary_by_values(my_dictionary)\n",
        "print(\"Sorted in ascending order:\", sorted_dictionary_asc)\n",
        "\n",
        "\n",
        "# Sort in descending order\n",
        "sorted_dictionary_desc = sort_dictionary_by_values(my_dictionary, reverse=True)\n",
        "print(\"Sorted in descending order:\", sorted_dictionary_desc)\n"
      ],
      "metadata": {
        "colab": {
          "base_uri": "https://localhost:8080/"
        },
        "id": "wCn_bY0Hvd3b",
        "outputId": "5b907c4e-52b5-41a0-d208-706e3e8d6d9e"
      },
      "execution_count": null,
      "outputs": [
        {
          "output_type": "stream",
          "name": "stdout",
          "text": [
            "Sorted in ascending order: {'banana': 1, 'orange': 2, 'apple': 3}\n",
            "Sorted in descending order: {'apple': 3, 'orange': 2, 'banana': 1}\n"
          ]
        }
      ]
    },
    {
      "cell_type": "markdown",
      "source": [
        "32/ & Write a code that inverts a dictionary, swapping keys and values. Ensure that the inverted dictionary\n",
        "correctly handles cases where multiple keys have the same value by storing the keys as a list in the\n",
        "inverted dictionary."
      ],
      "metadata": {
        "id": "u9k2eig_wUYx"
      }
    },
    {
      "cell_type": "code",
      "source": [
        "from collections import defaultdict\n",
        "\n",
        "def invert_dictionary(dictionary):\n",
        "  inverted_dict = defaultdict(list)\n",
        "  for key, value in dictionary.items():\n",
        "    inverted_dict[value].append(key)\n",
        "  return dict(inverted_dict)\n",
        "\n",
        "# Example usage:\n",
        "my_dictionary = {'a': 1, 'b': 2, 'c': 1, 'd': 3}\n",
        "inverted_dictionary = invert_dictionary(my_dictionary)\n",
        "print(inverted_dictionary)"
      ],
      "metadata": {
        "colab": {
          "base_uri": "https://localhost:8080/"
        },
        "id": "yFHkv05OwU6W",
        "outputId": "952dad35-c2cd-4eab-f5e9-82d351208021"
      },
      "execution_count": null,
      "outputs": [
        {
          "output_type": "stream",
          "name": "stdout",
          "text": [
            "{1: ['a', 'c'], 2: ['b'], 3: ['d']}\n"
          ]
        }
      ]
    }
  ]
}